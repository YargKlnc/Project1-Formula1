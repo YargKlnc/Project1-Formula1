#import dependencies
import matplotlib.pyplot as plt
import scipy.stats as st
from scipy.stats import linregress
import pandas as pd
from pathlib import Path
from datetime import datetime, timedelta
import numpy as np

import hvplot.pandas
import requests
import warnings

from sklearn import datasets
# from datetime import date
import datetime as dt
