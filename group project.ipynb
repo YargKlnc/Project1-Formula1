{
 "cells": [
  {
   "cell_type": "code",
   "execution_count": null,
   "metadata": {},
   "outputs": [],
   "source": [
    "#import dependencies\n",
    "\n",
    "#import dataset\n",
    "\n",
    "#archit-pit stop time\n",
    "#Merge pit_stop_times.csv, results.csv, races.csv\n",
    "#\n",
    "#\n",
    "\n",
    "#chisom-age_of_driver\n",
    "#Merge driver_standings.csv, drivers.csv, results.csv  \n",
    "#Mean of age of driver\n",
    "#Mean of top 3 winner drivers\n",
    "#Correlation between age and time\n",
    "\n",
    "#ismail results.csv-type_of_constructor\n",
    "#Merge constructor_results.csv, constructor_standings.csv, constructors.csv, results.csv, races.csv\n",
    "#\n",
    "\n",
    "#yargi-laptime\n",
    "#Merge results.csv, lap_times.csv, races.csv, \n",
    " \n",
    "\n",
    "\n",
    "\n"
   ]
  }
 ],
 "metadata": {
  "language_info": {
   "name": "python"
  },
  "orig_nbformat": 4
 },
 "nbformat": 4,
 "nbformat_minor": 2
}
