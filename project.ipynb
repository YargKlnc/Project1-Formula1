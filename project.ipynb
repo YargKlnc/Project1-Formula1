{
 "cells": [
  {
   "cell_type": "code",
   "execution_count": null,
   "metadata": {},
   "outputs": [],
   "source": [
    "#import dependencies\n",
    "import matplotlib.pyplot as plt\n",
    "import scipy.stats as st\n",
    "from scipy.stats import linregress\n",
    "import pandas as pd\n",
    "from pathlib import Path\n",
    "from datetime import datetime, timedelta\n",
    "import numpy as np\n",
    "\n",
    "# chisom\n",
    "import hvplot.pandas\n",
    "import requests\n",
    "import warnings\n",
    "\n",
    "from sklearn import datasets\n",
    "# from datetime import date\n",
    "import datetime as dt\n",
    "\n",
    "# store filepaths into variable\n",
    "results_csv = pd.read_csv('Resources/results.csv', na_values=r'\\N')\n",
    "lap_times_csv = pd.read_csv('Resources/lap_times.csv', na_values=r'\\N')\n",
    "races_csv = pd.read_csv('Resources/races.csv', na_values=r'\\N')\n",
    "constructors_csv = pd.read_csv('Resources/constructors.csv', na_values=r'\\N')\n",
    "constructor_results = pd.read_csv('Resources/constructor_results.csv', na_values=r'\\N')\n",
    "constructor_standings = pd.read_csv('Resources/constructor_standings.csv', na_values=r'\\N')\n",
    "drivers_csv = pd.read_csv('Resources/drivers.csv', na_values=r'\\N')\n",
    "drivers_standings_csv = pd.read_csv('Resources/driver_standings.csv', na_values=r'\\N')\n",
    "circuits_csv = pd.read_csv('Resources/circuits.csv', na_values=r'\\N')\n",
    "pit_stop = pd.read_csv('Resources/pit_stops.csv', na_values=r'\\N')"
   ]
  },
  {
   "cell_type": "code",
   "execution_count": null,
   "metadata": {},
   "outputs": [],
   "source": [
    "#merge constructor results and constructor standings csv\n",
    "constructor_df = pd.merge(constructor_results, constructor_standings, how=\"inner\")\n",
    "constructor_df\n"
   ]
  },
  {
   "cell_type": "code",
   "execution_count": null,
   "metadata": {},
   "outputs": [],
   "source": [
    "#merge the combined construtors with the constructors csv\n",
    "constructor_df = pd.merge(constructor_df, constructors_csv, how=\"inner\")\n",
    "constructor_df"
   ]
  },
  {
   "cell_type": "code",
   "execution_count": null,
   "metadata": {},
   "outputs": [],
   "source": [
    "#drop extra columns and combine the merged constructors with races csv on \"raceId\"\n",
    "\n",
    "new_constructor_df_constructor= constructor_df.drop(columns=[\"status\", \"positionText\", \"constructorRef\"])\n",
    "new_constructor_df = pd.merge(constructor_df, races_csv, on=\"raceId\")\n",
    "new_constructor_df"
   ]
  },
  {
   "cell_type": "code",
   "execution_count": null,
   "metadata": {},
   "outputs": [],
   "source": [
    "#dropping extra columns again after last merge\n",
    "clean_construtors= new_constructor_df.drop(columns=[\"fp1_date\", \"fp1_time\", \"fp2_date\",\t\"fp2_time\", \"fp3_date\", \"fp3_time\",\"quali_date\",\"quali_time\",\"sprint_date\", \"sprint_time\",\"date\",\"time\", \"url_x\", \"url_y\", \"status\",\"positionText\"])\n",
    "clean_construtors"
   ]
  },
  {
   "cell_type": "code",
   "execution_count": null,
   "metadata": {},
   "outputs": [],
   "source": [
    "#rename columns\n",
    "clean_construtors = clean_construtors.rename(columns={\"name_x\":\"constructor_name\", \"name_y\":\"circuit name\"})\n",
    "clean_construtors"
   ]
  },
  {
   "cell_type": "code",
   "execution_count": null,
   "metadata": {},
   "outputs": [],
   "source": [
    "#find winning constructors from 2004\n",
    "\n",
    "constructors_after_2004 = clean_construtors[(clean_construtors[\"year\"]) >=2004]\n",
    "constructors_after_2004 = constructors_after_2004.sort_values(\"year\", ascending=True)\n",
    "constructors_after_2004"
   ]
  },
  {
   "cell_type": "code",
   "execution_count": null,
   "metadata": {},
   "outputs": [],
   "source": [
    "top_winning_constructors = constructors_after_2004[constructors_after_2004[\"position\"]==1].groupby([\"constructorId\", \"constructor_name\",\"nationality\"])\n",
    "top_winning_constructors.head()"
   ]
  },
  {
   "cell_type": "code",
   "execution_count": null,
   "metadata": {},
   "outputs": [],
   "source": [
    "#calculate win counts for each year \n",
    "win_counts = top_winning_constructors['wins'].sum().reset_index()\n",
    "win_counts.value_counts()\n"
   ]
  },
  {
   "cell_type": "code",
   "execution_count": null,
   "metadata": {},
   "outputs": [],
   "source": [
    "# Create a bar chart for top constructors per year from 2004\n",
    "plt.figure(figsize=(10, 6))\n",
    "plt.bar(win_counts['constructor_name'], win_counts['wins'])\n",
    "plt.xlabel('Constructors')\n",
    "plt.ylabel('Total Wins')\n",
    "plt.title('Most Constructor Wins since 2004')\n",
    "plt.xticks(rotation=45)\n",
    "plt.tight_layout()\n",
    "\n",
    "# Show the chart\n",
    "plt.show()"
   ]
  },
  {
   "cell_type": "code",
   "execution_count": null,
   "metadata": {},
   "outputs": [],
   "source": [
    "# Create a pie chart for top constructors per year based on nationality\n",
    "fig, ax = plt.subplots(figsize=(8, 8))\n",
    "ax.pie(win_counts['wins'], labels=win_counts['nationality'], autopct='%1.1f%%', startangle=90)\n",
    "\n",
    "ax.set_title('Winning Constructor Nationality Per Year from 2004')\n",
    "\n",
    "plt.axis('equal')  \n",
    "\n",
    "plt.tight_layout()\n",
    "plt.show()"
   ]
  },
  {
   "cell_type": "code",
   "execution_count": null,
   "metadata": {},
   "outputs": [],
   "source": [
    "#based on the data, the top 3 most successful constructors are Ferrari, Redbull and Mercedes. Ferarri has been the most successful constructor for f1 in the last 20 years. There can be many factors: such as investment of resources, technical innovation and talent recruitment. Italian made cars serve as a blueprint for success for team managers starting a team in F1. "
   ]
  },
  {
   "cell_type": "code",
   "execution_count": null,
   "metadata": {},
   "outputs": [],
   "source": [
    "races_df=pd.DataFrame(races_csv, columns=[\n",
    "                        \"year\", \"raceId\", \"date\"])\n",
    "races_df"
   ]
  },
  {
   "cell_type": "code",
   "execution_count": null,
   "metadata": {},
   "outputs": [],
   "source": [
    "results_df=pd.DataFrame(results_csv, columns=[\n",
    "                        \"raceId\", \"driverId\"])\n",
    "results_df"
   ]
  },
  {
   "cell_type": "code",
   "execution_count": null,
   "metadata": {},
   "outputs": [],
   "source": [
    "drivers_df=pd.DataFrame(drivers_csv, columns=[\n",
    "                        \"dob\", \"driverRef\", \"driverId\"])\n",
    "drivers_df"
   ]
  },
  {
   "cell_type": "code",
   "execution_count": null,
   "metadata": {},
   "outputs": [],
   "source": [
    "drivers_standings_df=pd.DataFrame(drivers_standings_csv, columns=[\n",
    "                        \"wins\", \"driverId\", \"raceId\"])\n",
    "drivers_standings_df"
   ]
  },
  {
   "cell_type": "code",
   "execution_count": null,
   "metadata": {},
   "outputs": [],
   "source": [
    "driver_merged=pd.merge(drivers_df, drivers_standings_df,  on=\"driverId\")"
   ]
  },
  {
   "cell_type": "code",
   "execution_count": null,
   "metadata": {},
   "outputs": [],
   "source": [
    "driver_merged=pd.merge(drivers_df, drivers_standings_df,  on=\"driverId\")\n",
    "driver_merged_clean= driver_merged.dropna()\n",
    "driver_merged_clean.head()"
   ]
  },
  {
   "cell_type": "code",
   "execution_count": null,
   "metadata": {},
   "outputs": [],
   "source": [
    "driver_merged_clean=pd.merge(driver_merged_clean, races_df, on=\"raceId\")\n",
    "driver_merged_clean\n"
   ]
  },
  {
   "cell_type": "code",
   "execution_count": null,
   "metadata": {},
   "outputs": [],
   "source": [
    "driver_name = driver_merged_clean.set_index('driverRef').groupby(['driverRef'])\n",
    "driver_name.head()\n",
    "after_2004_races_df = driver_merged_clean[(driver_merged_clean['date']) > '2004-01-01']\n",
    "after_2004_races_df= after_2004_races_df.sort_values('year', ascending=True)\n",
    "after_2004_races_df"
   ]
  },
  {
   "cell_type": "code",
   "execution_count": null,
   "metadata": {},
   "outputs": [],
   "source": [
    "after_2004_races_df.count()"
   ]
  },
  {
   "cell_type": "code",
   "execution_count": null,
   "metadata": {},
   "outputs": [],
   "source": [
    "after_2004_races_df[\"dob\"] = pd.to_datetime(after_2004_races_df[\"dob\"])\n",
    "\n",
    "# Extract the year from the date of birth\n",
    "after_2004_races_df[\"dob_year\"] = after_2004_races_df[\"dob\"].dt.year\n",
    "\n",
    "# Calculate the age at the time of the race in years\n",
    "after_2004_races_df[\"age\"] = after_2004_races_df[\"year\"] - after_2004_races_df[\"dob_year\"]\n",
    "\n",
    "# Drop the temporary 'dob_year' column if you no longer need it\n",
    "after_2004_races_df = after_2004_races_df.drop(columns=[\"dob_year\"])\n",
    "after_2004_races_df"
   ]
  },
  {
   "cell_type": "code",
   "execution_count": null,
   "metadata": {},
   "outputs": [],
   "source": [
    "reduce_driver_merged_group = after_2004_races_df[(after_2004_races_df[\"age\"] < 60)]\n",
    "reduce_driver_merged_group .head()\n",
    "\n",
    "#explain why 60 was the cut off mark\n"
   ]
  },
  {
   "cell_type": "markdown",
   "metadata": {},
   "source": [
    "The cut off mark for the age was based on the retirement age in the united states, most career focused job have s retirment age bewteen 50-65 years and i believe having a cut off age at 60 was a good benchamrk "
   ]
  },
  {
   "cell_type": "code",
   "execution_count": null,
   "metadata": {},
   "outputs": [],
   "source": [
    "reduce_driver_merged_group.count()"
   ]
  },
  {
   "cell_type": "code",
   "execution_count": null,
   "metadata": {},
   "outputs": [],
   "source": [
    "driver_merged_group2=reduce_driver_merged_group.groupby([\"wins\"]).max()\n",
    "driver_merged_group2.tail()"
   ]
  },
  {
   "cell_type": "code",
   "execution_count": null,
   "metadata": {},
   "outputs": [],
   "source": [
    "driver_merged_group2_aver=reduce_driver_merged_group['age'].mean()\n",
    "driver_merged_group2_aver\n",
    "#this result shows that the average age bewteen all drivers regardless of the amount of wins is 28 years old "
   ]
  },
  {
   "cell_type": "code",
   "execution_count": null,
   "metadata": {},
   "outputs": [],
   "source": [
    "driver_merged_group2_avera=reduce_driver_merged_group['wins'].mean()\n",
    "driver_merged_group2_avera"
   ]
  },
  {
   "cell_type": "code",
   "execution_count": null,
   "metadata": {},
   "outputs": [],
   "source": [
    "age_group= reduce_driver_merged_group.groupby([\"age\"])\n",
    "age_group.head()\n"
   ]
  },
  {
   "cell_type": "code",
   "execution_count": null,
   "metadata": {},
   "outputs": [],
   "source": [
    "top4_wins=reduce_driver_merged_group.loc[reduce_driver_merged_group['wins']>=10]\n",
    "top4_wins\n",
    "#explain why you use 12 as a benchmark\n",
    "#Looking at the top 4 winners, i needed a benchmark to see what age the drivers won. Looking at 10 wins seem the more reasonable because the most wins should be drivers that have double digts wins, with the amount of race held yearly and the amount ciructs done during the year."
   ]
  },
  {
   "cell_type": "markdown",
   "metadata": {},
   "source": [
    "Looking at the top 4 winners, i needed a benchmark to see what age the drivers won. Looking at 10 wins seem the more reasonable because the most wins should be drivers that have double digts wins, with the amount of race held yearly and the amount ciructs done during the year."
   ]
  },
  {
   "cell_type": "code",
   "execution_count": null,
   "metadata": {},
   "outputs": [],
   "source": [
    "top4_wins_group= top4_wins.groupby([\"driverRef\"])\n",
    "top4_wins_group"
   ]
  },
  {
   "cell_type": "code",
   "execution_count": null,
   "metadata": {},
   "outputs": [],
   "source": [
    "top4_wins_aver=top4_wins_group['age'].mean()\n",
    "top4_wins_aver"
   ]
  },
  {
   "cell_type": "code",
   "execution_count": null,
   "metadata": {},
   "outputs": [],
   "source": [
    "age_groups=reduce_driver_merged_group.groupby([\"age\"]).max()"
   ]
  },
  {
   "cell_type": "code",
   "execution_count": null,
   "metadata": {},
   "outputs": [],
   "source": [
    "age_of_driver_graph= age_groups['wins']\n",
    "age_of_driver_graph.plot(kind=\"bar\", figsize=(20,3.5))\n",
    "plt.xlabel(\"age\")\n",
    "plt.ylabel(\"Wins\")\n",
    "plt.title(\"Wins & Age\")\n",
    "plt.show()"
   ]
  },
  {
   "cell_type": "code",
   "execution_count": null,
   "metadata": {},
   "outputs": [],
   "source": [
    "winss= reduce_driver_merged_group['wins']\n",
    "age = reduce_driver_merged_group['age']\n",
    "st.pearsonr(reduce_driver_merged_group['age'],reduce_driver_merged_group['wins'])\n",
    "print(f\"The correlation coefficient between wins and age is {round(st.pearsonr(winss, age)[0],2)}\")\n",
    "#explain how there is no correlation between the age and wins \n"
   ]
  },
  {
   "cell_type": "markdown",
   "metadata": {},
   "source": [
    "The correlation shown proves that there is a signficant but not enough signficance for the age of a driver to be taken into account when looking at the fsctors that play into whether or not a head coach should hire an young driver or someone of an older age."
   ]
  },
  {
   "cell_type": "code",
   "execution_count": null,
   "metadata": {},
   "outputs": [],
   "source": [
    "x_values = reduce_driver_merged_group['age']\n",
    "y_values = reduce_driver_merged_group['wins']\n",
    "linregress(x_values, y_values)\n",
    "(slope, intercept, rvalue, pvalue, stderr) = linregress(x_values, y_values)\n",
    "regress_values = x_values * slope + intercept\n",
    "line_eq = \"y = \" + str(round(slope,2)) + \"x + \" + str(round(intercept,2))"
   ]
  },
  {
   "cell_type": "code",
   "execution_count": null,
   "metadata": {},
   "outputs": [],
   "source": [
    "plt.scatter(x_values,y_values)\n",
    "plt.plot(x_values,regress_values,\"r-\")\n",
    "plt.annotate(line_eq,(0,50),fontsize=15,color=\"red\")\n",
    "plt.xlabel('Age')\n",
    "plt.ylabel('Wins')\n",
    "plt.title(\"Wins & Age\")\n",
    "print(f\"The r-squared is: {rvalue**2}\")\n",
    "plt.show()"
   ]
  },
  {
   "cell_type": "markdown",
   "metadata": {},
   "source": [
    "# Pit Stop Analysis"
   ]
  },
  {
   "cell_type": "code",
   "execution_count": null,
   "metadata": {},
   "outputs": [],
   "source": [
    "\n",
    "#merge pit_stops and results\n",
    "df = pd.merge(pit_stop, results_csv, on=['raceId', 'driverId'], suffixes=('_pit', '_result'), how='inner')\n",
    "# Convert milliseconds to numeric\n",
    "df['milliseconds_pit'] = pd.to_numeric(df['milliseconds_pit'], errors='coerce')\n",
    "df['milliseconds_result'] = pd.to_numeric(df['milliseconds_result'], errors='coerce')\n",
    "# Convert milliseconds to seconds\n",
    "df['seconds_pit'] = df['milliseconds_pit'] / 1000\n",
    "df['seconds_result'] = df['milliseconds_result'] / 1000\n",
    "# drop the columns that are not needed for the analysis\n",
    "df.drop(['milliseconds_pit', 'milliseconds_result',  'fastestLap', 'fastestLapSpeed', 'statusId', 'laps', 'lap', 'resultId', 'fastestLapTime', 'fastestLapSpeed', 'statusId','number', 'grid',], axis=1, inplace=True)\n",
    "\n",
    "print(df.columns)"
   ]
  },
  {
   "cell_type": "markdown",
   "metadata": {},
   "source": [
    "\n",
    "## Correlation Analysis Between Pit Stop Duration and Final Race Result:\n",
    "To understand the relationship between the duration of a pit stop and the final race result, a correlation analysis was performed on the cleaned dataset.\n",
    "\n",
    "### Findings:\n",
    "- The correlation coefficient was found to be 0.33462239711643876. This positive value indicates that as the duration of a pit stop increases, there's a tendency for the race result duration to also increase. However, it's essential to note that this is a moderate correlation, which means that while there is a relationship, there are also other factors influencing the final race result.\n",
    "### Visualization of the Relationship:\n",
    "A scatter plot was generated to visually represent the relationship between pit stop duration and race result duration:\n",
    "- The scatter plot reinforces our understanding of the correlation. While there's a visible trend showing that longer pit stops are associated with longer race durations, the data points are somewhat dispersed, highlighting the influence of other factors in a race.\n",
    "### Implications:\n",
    "- Given the moderate positive correlation, it suggests that efficient pit stops can contribute to better race results. Although pit stop duration is just one of many factors that determine race outcomes, its influence is undeniable. In the context of winning an F1 championship, teams that consistently achieve shorter pit stop durations may have an advantage in races, potentially leading to better race positions and higher championship points.\n",
    "\n"
   ]
  },
  {
   "cell_type": "code",
   "execution_count": null,
   "metadata": {},
   "outputs": [],
   "source": [
    "# Drop rows with missing values in either pit stop or result duration\n",
    "df_cleaned = df.dropna(subset=['seconds_pit', 'seconds_result'])\n",
    "\n",
    "# Calculate correlation\n",
    "correlation = df_cleaned['seconds_pit'].corr(df_cleaned['seconds_result'])\n",
    "\n",
    "print(f\"Correlation between pit stop duration and final race result: {correlation}\")"
   ]
  },
  {
   "cell_type": "code",
   "execution_count": null,
   "metadata": {},
   "outputs": [],
   "source": [
    "# Scatter plot\n",
    "plt.figure(figsize=(10, 6))\n",
    "plt.scatter(df_cleaned['seconds_pit'], df_cleaned['seconds_result'])\n",
    "plt.title('Pit Stop Duration vs. Race Result Duration')\n",
    "plt.xlabel('Pit Stop Duration (seconds)')\n",
    "plt.ylabel('Race Result Duration (seconds)')\n",
    "plt.show()\n"
   ]
  },
  {
   "cell_type": "markdown",
   "metadata": {},
   "source": [
    "## ANOVA Test:\n",
    "The ANOVA test was conducted to determine if there are significant differences in pit stop durations among various F1 constructors (teams). The result of the test provides two key metrics:\n",
    "\n",
    "- F-statistic (7.61): This number represents the ratio of variance between the groups (different constructors) to the variance within the groups (intra-constructor variance). A higher F-statistic suggests that the differences between the group means are more substantial than what might be expected by chance.\n",
    "- p-value (3.74e-23): This incredibly small p-value, way below the 0.05 threshold, tells us the probability of observing these results if the null hypothesis were true. Given its minuscule magnitude, it means the results are highly statistically significant.\n",
    "\n",
    "From the above ANOVA result, we can infer:\n",
    "\n",
    "- Significant Differences: There are significant differences in pit stop durations across different constructors. Not every team is performing pit stops with the same efficiency.\n",
    "- Statistical Significance: The differences are not merely by chance; they are statistically significant, implying real variations in pit stop efficiencies among the teams.\n",
    "\n",
    "\n",
    "The ANOVA results have crucial implications:\n",
    "\n",
    "- Strategic Importance: The differences in pit stop durations among constructors highlight a potential area for competitive advantage. Teams with quicker pit stops can gain crucial seconds during a race, which can be the difference between securing a podium position or not.\n",
    "- Season-long Impacts: Over a season, these seconds saved during pit stops can cumulate. A team with a consistent edge in pit stop efficiency might end up with more championship points due to better race finishes.\n",
    "- Prioritization by Teams: If a team is lagging in pit stop efficiency, it might be a critical area to focus on. Enhancing their pit stop times could significantly boost their chances in individual races and the championship overall.\n",
    "\n",
    "### Implications:\n",
    "The ANOVA results underscore the significance of pit stop durations in F1 racing. Teams with a strategic advantage in pit stops stand a better chance of clinching better race positions and, consequently, the championship. As the season progresses, this advantage can be a defining factor in the title race. Any team serious about the championship should invest resources in optimizing their pit stop strategy and execution."
   ]
  },
  {
   "cell_type": "code",
   "execution_count": null,
   "metadata": {},
   "outputs": [],
   "source": [
    "\n",
    "# Extract pit stop durations by constructor for ANOVA\n",
    "pit_durations = [df[df['constructorId'] == constructor]['seconds_pit'].dropna().values for constructor in df['constructorId'].unique()]\n",
    "\n",
    "# Perform ANOVA\n",
    "anova_result = st.f_oneway(*pit_durations)\n",
    "\n",
    "# Display the ANOVA result\n",
    "print(\"ANOVA Result:\")\n",
    "print(anova_result)\n",
    "\n",
    "# Check for statistical significance\n",
    "alpha = 0.05\n",
    "if anova_result.pvalue < alpha:\n",
    "    print(\"\\nReject the null hypothesis. There are significant differences in pit stop durations among constructors.\")\n",
    "else:\n",
    "    print(\"\\nFail to reject the null hypothesis. There are no significant differences in pit stop durations among constructors.\")"
   ]
  },
  {
   "cell_type": "markdown",
   "metadata": {},
   "source": [
    "## Pit Stop Duration by Constructors:\n",
    "To assess the efficiency of different F1 teams in their pit stops, a boxplot visualization was created to compare pit stop durations grouped by each constructor (or team).\n",
    "\n",
    "### Visualization:\n",
    "\n",
    "The boxplot shows the distribution of pit stop durations for each constructor. The colored boxes represent the interquartile range (25th percentile to 75th percentile) of pit stop durations, with the median (50th percentile) highlighted in black. Outliers (extremely short or long pit stops) were excluded from the visualization for clarity.\n",
    "### Statistical Analysis:\n",
    "\n",
    "To supplement the visualization and provide a deeper understanding, statistical descriptors for each constructor's pit stop durations were computed:\n",
    "\n",
    "count: Number of pit stops recorded for the constructor.\n",
    "mean: Average pit stop duration.\n",
    "std: Standard deviation, showing the dispersion of the pit stop durations.\n",
    "min: Shortest pit stop duration recorded.\n",
    "25%: 25th percentile (lower quartile).\n",
    "50%: Median (50th percentile).\n",
    "75%: 75th percentile (upper quartile).\n",
    "max: Longest pit stop duration recorded.\n",
    "### Findings:\n",
    "\n",
    "From the provided output, we can make several observations:\n",
    "\n",
    "Constructors vary in the number of pit stops they've recorded, indicating different levels of participation or data availability.\n",
    "The average pit stop duration (mean) varies across constructors. For instance, constructor 1 has an average pit stop duration of approximately 81.19 seconds, whereas constructor 166 averages around 24.24 seconds.\n",
    "There's a significant range in pit stop durations, as indicated by the min and max values. Some teams have had exceedingly long pit stops, possibly due to technical issues.\n",
    "The variability in pit stop durations (as denoted by the std values) also varies across teams. Some teams exhibit higher consistency in their pit stops than others.\n",
    "### Implications:\n",
    "\n",
    "The variation in pit stop durations among constructors implies that certain teams may possess an advantage in this aspect of the race. Teams with consistently shorter pit stops can potentially improve their race position, gaining crucial seconds that could translate into better race outcomes. In the context of the broader question regarding the influence of pit stops on winning an F1 championship, these insights indicate that the efficiency of pit stops can be a determinant factor. However, the impact of pit stop durations would still need to be analyzed in conjunction with other performance metrics to draw more comprehensive conclusions."
   ]
  },
  {
   "cell_type": "code",
   "execution_count": null,
   "metadata": {},
   "outputs": [],
   "source": [
    "\n",
    "fig, ax = plt.subplots(figsize=(15, 8))\n",
    "df.boxplot(column='seconds_pit', by='constructorId', grid=False, showfliers=False, patch_artist=True, medianprops={'color':'black'}, ax=ax)\n",
    "plt.title('Pit Stop Duration by Constructor')\n",
    "plt.xlabel('Constructor ID')\n",
    "plt.ylabel('Pit Stop Duration (seconds)')\n",
    "plt.xticks(rotation=45, ha='right')\n",
    "plt.show()\n",
    "\n",
    "# Statistical Analysis\n",
    "constructor_pit_duration_stats = df.groupby('constructorId')['seconds_pit'].describe()\n",
    "print(constructor_pit_duration_stats) "
   ]
  },
  {
   "cell_type": "markdown",
   "metadata": {},
   "source": [
    "## Conclusion for Pit Stop Analysis:\n",
    "\n",
    "In the high-stakes environment of Formula 1 racing, every fraction of a second matters. The in-depth analysis of pit stop durations across different constructors offers illuminating insights into the varying efficiency levels among teams.\n",
    "\n",
    "Our findings reveal that there's a notable variation in pit stop durations across different constructors. This disparity suggests that while some teams have honed their pit stop process to a fine art, optimizing every movement for speed, others might have areas of improvement or might have faced unexpected issues leading to prolonged stops.\n",
    "\n",
    "Given the close correlation between pit stop duration and race results, these variations cannot be overlooked. A team that consistently delivers fast and efficient pit stops can potentially leverage this advantage to improve their race position, which in turn can influence the championship outcomes.\n",
    "\n",
    "However, while pit stop efficiency is undeniably a crucial component, it is just one of the myriad factors that determine a team's success in an F1 championship. Driver skill, car performance, race strategy, and external factors like weather conditions also play pivotal roles. But as this analysis underscores, in the realm of F1 racing, where races can be won or lost in milliseconds, mastering the art of the pit stop can be a game-changer."
   ]
  },
  {
   "cell_type": "code",
   "execution_count": null,
   "metadata": {},
   "outputs": [],
   "source": [
    "# Top Lap Speeds after 2004"
   ]
  },
  {
   "cell_type": "code",
   "execution_count": null,
   "metadata": {},
   "outputs": [],
   "source": [
    "# working on results_csv, performing dropna\n",
    "results_csv = results_csv.replace(to_replace=\"\\\\N\", value=np.nan)\n",
    "results_csv = results_csv.dropna()\n",
    "results_csv"
   ]
  },
  {
   "cell_type": "code",
   "execution_count": null,
   "metadata": {},
   "outputs": [],
   "source": [
    "# checking rows for raceId260 if there is empty data\n",
    "results_csv.loc[results_csv['raceId']==260]"
   ]
  },
  {
   "cell_type": "code",
   "execution_count": null,
   "metadata": {},
   "outputs": [],
   "source": [
    "# columns we are interested in\n",
    "new_results_df = results_csv[['raceId', 'driverId', 'constructorId',\n",
    "                         'position', 'laps', 'time', 'milliseconds', \n",
    "                         'fastestLap', 'rank', 'fastestLapTime', 'fastestLapSpeed']]\n",
    "new_results_df['fastestLapTime'] = new_results_df['fastestLapTime'].astype(\"datetime64\")\n",
    "new_results_df = new_results_df.astype({\"fastestLapTime\": \"datetime64\"})\n",
    "new_results_df['fastestLapTime'] = pd.to_datetime(new_results_df['fastestLapTime'],format).apply(lambda x: x.time())\n",
    "new_results_df = new_results_df.replace(to_replace=\"\\\\N\", value=np.nan)\n",
    "new_results_df = new_results_df.dropna()\n",
    "new_results_df.head(10)"
   ]
  },
  {
   "cell_type": "code",
   "execution_count": null,
   "metadata": {},
   "outputs": [],
   "source": [
    "#checking types\n",
    "new_results_df.dtypes"
   ]
  },
  {
   "cell_type": "code",
   "execution_count": null,
   "metadata": {},
   "outputs": [],
   "source": [
    "#lap_times_csv\n",
    "lap_times_csv = lap_times_csv.dropna()\n",
    "lap_times_csv.head()"
   ]
  },
  {
   "cell_type": "code",
   "execution_count": null,
   "metadata": {},
   "outputs": [],
   "source": [
    "#replacing null value to drop later\n",
    "races_csv = races_csv.replace(to_replace=\"\\\\N\", value=np.nan)\n",
    "races_csv.head()"
   ]
  },
  {
   "cell_type": "code",
   "execution_count": null,
   "metadata": {},
   "outputs": [],
   "source": [
    "# columns we are interested in\n",
    "new_races_df = races_csv[['raceId', 'year', 'round', 'circuitId', 'name']]\n",
    "new_races_df.head()"
   ]
  },
  {
   "cell_type": "code",
   "execution_count": null,
   "metadata": {},
   "outputs": [],
   "source": [
    "# getting races after year 2004\n",
    "after_2004_races_df = new_races_df[(new_races_df['year']) >= 2004]\n",
    "after_2004_races_df= after_2004_races_df.sort_values('year', ascending=True)\n",
    "after_2004_races_df.head()"
   ]
  },
  {
   "cell_type": "code",
   "execution_count": null,
   "metadata": {},
   "outputs": [],
   "source": [
    "#Merging new_results_df, after_2004_races_df on raceId\n",
    "merged_df = pd.merge(new_results_df, after_2004_races_df, on=['raceId'], how='inner')\n",
    "merged_df= merged_df.sort_values(\"year\", ascending=True)\n",
    "merged_df[\"position\"] = merged_df[\"position\"].astype(float)\n",
    "merged_df.head()"
   ]
  },
  {
   "cell_type": "code",
   "execution_count": null,
   "metadata": {},
   "outputs": [],
   "source": [
    "# columns we are interested in to obtain driver names\n",
    "drivers_csv = drivers_csv[['driverId', 'forename', 'surname']]\n",
    "drivers_csv.head()"
   ]
  },
  {
   "cell_type": "code",
   "execution_count": null,
   "metadata": {},
   "outputs": [],
   "source": [
    "# merging forename and surname to obtain driver name\n",
    "drivers_csv['driver name'] = drivers_csv['forename'] + ' ' + drivers_csv['surname']\n",
    "new_drivers_df = drivers_csv[['driverId', 'driver name']]\n",
    "new_drivers_df"
   ]
  },
  {
   "cell_type": "code",
   "execution_count": null,
   "metadata": {},
   "outputs": [],
   "source": [
    "#Merging merged_df, drivers_df on driverId\n",
    "mega_merged_df = pd.merge(new_drivers_df, merged_df, on=['driverId'], how='outer')\n",
    "mega_merged_df = mega_merged_df.sort_values('year', ascending=True)\n",
    "mega_merged_df = mega_merged_df.dropna()\n",
    "mega_merged_df = mega_merged_df.drop(columns=['round', 'rank'])\n",
    "mega_merged_df.head()"
   ]
  },
  {
   "cell_type": "code",
   "execution_count": null,
   "metadata": {},
   "outputs": [],
   "source": [
    "#checking data types\n",
    "mega_merged_df.dtypes"
   ]
  },
  {
   "cell_type": "code",
   "execution_count": null,
   "metadata": {},
   "outputs": [],
   "source": [
    "# columns we are interested in circuits_csv\n",
    "new_circuits_df = circuits_csv[['circuitId', 'name', 'location', 'country', 'lat', 'lng']]\n",
    "new_circuits_df.rename(columns = {'name':'Circuit Name'}, inplace = True)\n",
    "new_circuits_df.head()"
   ]
  },
  {
   "cell_type": "code",
   "execution_count": null,
   "metadata": {},
   "outputs": [],
   "source": [
    "#Merging mega_merged_df, new_circuits_df on circuitId\n",
    "mega2_merged_df = pd.merge(mega_merged_df, new_circuits_df, on=['circuitId'], how='outer')\n",
    "mega2_merged_df = mega2_merged_df.sort_values('year', ascending=True)\n",
    "mega2_merged_df = mega2_merged_df.dropna()\n",
    "mega2_merged_df.head()"
   ]
  },
  {
   "cell_type": "code",
   "execution_count": null,
   "metadata": {},
   "outputs": [],
   "source": [
    "# getting columns we are interested from new_constructors_csv\n",
    "new_constructors_df = constructors_csv[['constructorId', 'name']]\n",
    "new_constructors_df.rename(columns = {'name':'Team Name'}, inplace = True)\n",
    "new_constructors_df.head()"
   ]
  },
  {
   "cell_type": "code",
   "execution_count": null,
   "metadata": {},
   "outputs": [],
   "source": [
    "#Merging mega2_merged_df, new_constructors_df on circuitId and ontaining final merged data\n",
    "final_merged_df = pd.merge(new_constructors_df, mega2_merged_df, on=['constructorId'], how='outer')\n",
    "final_merged_df = final_merged_df.sort_values('year', ascending=True)\n",
    "final_merged_df = final_merged_df[['raceId', 'year', 'country', 'location', 'Circuit Name', 'Team Name', 'driverId',\n",
    "                                   'driver name','laps', 'time', 'milliseconds', 'position', 'fastestLap', 'fastestLapTime',\n",
    "                                   'fastestLapSpeed', 'constructorId', 'lat', 'lng']]\n",
    "final_merged_df.drop_duplicates(inplace = True)\n",
    "final_merged_df = final_merged_df.dropna()\n",
    "final_merged_df = final_merged_df.reset_index(drop=True)\n",
    "final_merged_df.head()"
   ]
  },
  {
   "cell_type": "code",
   "execution_count": null,
   "metadata": {},
   "outputs": [],
   "source": [
    "# Calculating fastest/slowest speed of races from 2004\n",
    "slowest_speed = final_merged_df[\"fastestLapSpeed\"].min()\n",
    "fastest_speed = final_merged_df[\"fastestLapSpeed\"].max()\n",
    "\n",
    "# Print\n",
    "print(slowest_speed)\n",
    "print(fastest_speed)"
   ]
  },
  {
   "cell_type": "code",
   "execution_count": null,
   "metadata": {},
   "outputs": [],
   "source": [
    "# Calculating fastest/slowest lap times of races from 2004\n",
    "fastest_laptime = final_merged_df[\"fastestLapTime\"].min()\n",
    "slowest_laptime = final_merged_df[\"fastestLapTime\"].max()\n",
    "\n",
    "# Print \n",
    "print(fastest_laptime)\n",
    "print(slowest_laptime)"
   ]
  },
  {
   "cell_type": "code",
   "execution_count": null,
   "metadata": {},
   "outputs": [],
   "source": [
    "# Setting 'year' as index and checking Top 3 fastest lap times\n",
    "year_index_laptime_df = final_merged_df.set_index('year')\n",
    "year_index_laptime_df = year_index_laptime_df.sort_values(('fastestLapTime'), ascending=True)\n",
    "year_index_laptime_df.head(3)"
   ]
  },
  {
   "cell_type": "code",
   "execution_count": null,
   "metadata": {},
   "outputs": [],
   "source": [
    "# Set the 'year' as our index and checking Top 3 fastest lap speeds\n",
    "year_index_speed_df = final_merged_df.set_index('year')\n",
    "year_index_speed_df = year_index_speed_df.sort_values(('fastestLapSpeed'), ascending=False)\n",
    "year_index_speed_df.head(5)"
   ]
  },
  {
   "cell_type": "code",
   "execution_count": null,
   "metadata": {},
   "outputs": [],
   "source": [
    "#Plotting Positions vs Fastest Lap Speed from 2004\n",
    "fig, ax = plt.subplots(figsize=(8, 8))\n",
    "ax.pie(final_merged_df['position'], labels=final_merged_df['fastestLapSpeed'], autopct='%1.1f%%', startangle=90)\n",
    "\n",
    "ax.set_title('Positions vs Fastest Lap Speed')\n",
    "\n",
    "plt.axis('equal')  \n",
    "\n",
    "plt.tight_layout()\n",
    "plt.show()"
   ]
  },
  {
   "cell_type": "code",
   "execution_count": null,
   "metadata": {},
   "outputs": [],
   "source": [
    "# Build scatter plot for latitude vs. fastestLapSpeed\n",
    "plt.scatter(final_merged_df['lat'], final_merged_df['fastestLapSpeed'], c='blue', s=50)\n",
    "\n",
    "# Save the figure\n",
    "# plt.savefig(\"OutputYK/LatitudeVSFastestLapSpeed.png\")\n",
    "\n",
    "# Show plot\n",
    "plt.show()"
   ]
  },
  {
   "cell_type": "code",
   "execution_count": null,
   "metadata": {},
   "outputs": [],
   "source": []
  }
 ],
 "metadata": {
  "kernelspec": {
   "display_name": "Python 3 (ipykernel)",
   "language": "python",
   "name": "python3"
  },
  "language_info": {
   "codemirror_mode": {
    "name": "ipython",
    "version": 3
   },
   "file_extension": ".py",
   "mimetype": "text/x-python",
   "name": "python",
   "nbconvert_exporter": "python",
   "pygments_lexer": "ipython3",
   "version": "3.10.12"
  }
 },
 "nbformat": 4,
 "nbformat_minor": 2
}
