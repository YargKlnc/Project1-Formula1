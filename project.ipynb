{
 "cells": [
  {
   "cell_type": "code",
   "execution_count": null,
   "metadata": {},
   "outputs": [],
   "source": [
    "#import dependencies\n",
    "import matplotlib.pyplot as plt\n",
    "import scipy.stats as st\n",
    "from scipy.stats import linregress\n",
    "import pandas as pd\n",
    "from pathlib import Path\n",
    "from datetime import datetime, timedelta\n",
    "import numpy as np\n",
    "\n",
    "# chisom\n",
    "import hvplot.pandas\n",
    "import requests\n",
    "import warnings\n",
    "\n",
    "from sklearn import datasets\n",
    "# from datetime import date\n",
    "import datetime as dt\n",
    "\n",
    "# store filepaths into variable\n",
    "results_csv = pd.read_csv('Resources/results.csv', na_values=r'\\N')\n",
    "lap_times_csv = pd.read_csv('Resources/lap_times.csv', na_values=r'\\N')\n",
    "races_csv = pd.read_csv('Resources/races.csv', na_values=r'\\N')\n",
    "constructors_csv = pd.read_csv('Resources/constructors.csv', na_values=r'\\N')\n",
    "constructor_results = pd.read_csv('Resources/constructor_results.csv', na_values=r'\\N')\n",
    "constructor_standings = pd.read_csv('Resources/constructor_standings.csv', na_values=r'\\N')\n",
    "drivers_cvs = pd.read_csv('Resources/drivers.csv', na_values=r'\\N')\n",
    "drivers_standings_csv = pd.read_csv('Resources/driver_standings.csv', na_values=r'\\N')\n",
    "circuits_csv = pd.read_csv('Resources/circuits.csv', na_values=r'\\N')\n",
    "pit_stop = pd.read_csv('Resources/pit_stops.csv', na_values=r'\\N')"
   ]
  }
 ],
 "metadata": {
  "kernelspec": {
   "display_name": "dev",
   "language": "python",
   "name": "python3"
  },
  "language_info": {
   "codemirror_mode": {
    "name": "ipython",
    "version": 3
   },
   "file_extension": ".py",
   "mimetype": "text/x-python",
   "name": "python",
   "nbconvert_exporter": "python",
   "pygments_lexer": "ipython3",
   "version": "3.10.12"
  },
  "orig_nbformat": 4
 },
 "nbformat": 4,
 "nbformat_minor": 2
}
